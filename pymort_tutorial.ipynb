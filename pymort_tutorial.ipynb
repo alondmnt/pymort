{
 "cells": [
  {
   "cell_type": "markdown",
   "metadata": {},
   "source": [
    "# Pymort tutorial\n",
    "\n",
    "### contents\n",
    "* [single mortgage simulation](#single-mortgage-simulation)\n",
    "* [multiple mortgage simulation](#multiple-mortgage-simulation)\n",
    "* [optimizing your mortgage offers](#optimizing-your-mortgage-offers)"
   ]
  },
  {
   "cell_type": "code",
   "execution_count": 1,
   "metadata": {},
   "outputs": [],
   "source": [
    "%load_ext autoreload\n",
    "%autoreload 2"
   ]
  },
  {
   "cell_type": "code",
   "execution_count": 2,
   "metadata": {},
   "outputs": [],
   "source": [
    "import numpy as np\n",
    "import pandas as pd\n",
    "import pymort"
   ]
  },
  {
   "cell_type": "markdown",
   "metadata": {},
   "source": [
    "## single mortgage simulation\n",
    "\n",
    "[top](#contents), [next](#multiple-mortgage-simulation)\n",
    "\n",
    "First, let's use the `Mortgage` class to simulate a single mortgage that contains to different plans with a total loan of 350,000$."
   ]
  },
  {
   "cell_type": "code",
   "execution_count": 3,
   "metadata": {},
   "outputs": [
    {
     "data": {
      "text/plain": [
       "\n",
       "Mortgage{'inflation': 0.0, 'monthly_inflation': 0.0, 'plans': [\n",
       "Plan{'principal': '100000.0000', 'years': '20.0000', 'interest': '3.0000', 'monthly_interest': '0.0025', 'monthly_pay': '554.5976', 'track_inflation': '1.0000', 'description': 'plan1', 'current_balance': '100000.0000'}, \n",
       "Plan{'principal': '250000.0000', 'years': '15.0000', 'interest': '1.0000', 'monthly_interest': '0.0008', 'monthly_pay': '1496.2363', 'track_inflation': '0.0000', 'description': 'plan2', 'current_balance': '250000.0000'}]}"
      ]
     },
     "execution_count": 3,
     "metadata": {},
     "output_type": "execute_result"
    }
   ],
   "source": [
    "mort = pymort.Mortgage()\n",
    "mort.add_plan(principal=100000, years=20, interest=3.0,\n",
    "              track_inflation=True, description='plan1')\n",
    "mort.add_plan(principal=250000, years=15, interest=1.0,\n",
    "              track_inflation=False, description='plan2')\n",
    "mort"
   ]
  },
  {
   "cell_type": "markdown",
   "metadata": {},
   "source": [
    "Next, let's simulate this mortgage, under a plausible scenario of 2% yearly inflation."
   ]
  },
  {
   "cell_type": "code",
   "execution_count": 4,
   "metadata": {},
   "outputs": [
    {
     "data": {
      "image/png": "[encoded data removed]",
      "text/plain": [
       "<Figure size 432x288 with 1 Axes>"
      ]
     },
     "metadata": {},
     "output_type": "display_data"
    }
   ],
   "source": [
    "mort.plot(inflation=2.0)"
   ]
  },
  {
   "cell_type": "markdown",
   "metadata": {},
   "source": [
    "We can see that the monthly payments increase with the years due to inflation, that after 15 years 'plan2' is complete and the payments drop to ~700$. The orange part of the plot descibes the fraction of each payment that is dedicated to cover the interest.\n",
    "\n",
    "To get a detailed payments table use:"
   ]
  },
  {
   "cell_type": "code",
   "execution_count": 5,
   "metadata": {
    "scrolled": true
   },
   "outputs": [
    {
     "data": {
      "text/html": [
       "<div>\n",
       "<style scoped>\n",
       "    .dataframe tbody tr th:only-of-type {\n",
       "        vertical-align: middle;\n",
       "    }\n",
       "\n",
       "    .dataframe tbody tr th {\n",
       "        vertical-align: top;\n",
       "    }\n",
       "\n",
       "    .dataframe thead th {\n",
       "        text-align: right;\n",
       "    }\n",
       "</style>\n",
       "<table border=\"1\" class=\"dataframe\">\n",
       "  <thead>\n",
       "    <tr style=\"text-align: right;\">\n",
       "      <th></th>\n",
       "      <th>fund</th>\n",
       "      <th>interest</th>\n",
       "    </tr>\n",
       "  </thead>\n",
       "  <tbody>\n",
       "    <tr>\n",
       "      <th>0</th>\n",
       "      <td>1593.003619</td>\n",
       "      <td>458.746229</td>\n",
       "    </tr>\n",
       "    <tr>\n",
       "      <th>1</th>\n",
       "      <td>1595.344781</td>\n",
       "      <td>457.322542</td>\n",
       "    </tr>\n",
       "    <tr>\n",
       "      <th>2</th>\n",
       "      <td>1597.692107</td>\n",
       "      <td>455.894207</td>\n",
       "    </tr>\n",
       "    <tr>\n",
       "      <th>3</th>\n",
       "      <td>1600.045619</td>\n",
       "      <td>454.461204</td>\n",
       "    </tr>\n",
       "    <tr>\n",
       "      <th>4</th>\n",
       "      <td>1602.405340</td>\n",
       "      <td>453.023513</td>\n",
       "    </tr>\n",
       "    <tr>\n",
       "      <th>5</th>\n",
       "      <td>1604.771292</td>\n",
       "      <td>451.581112</td>\n",
       "    </tr>\n",
       "    <tr>\n",
       "      <th>6</th>\n",
       "      <td>1607.143499</td>\n",
       "      <td>450.133982</td>\n",
       "    </tr>\n",
       "    <tr>\n",
       "      <th>7</th>\n",
       "      <td>1609.521983</td>\n",
       "      <td>448.682103</td>\n",
       "    </tr>\n",
       "    <tr>\n",
       "      <th>8</th>\n",
       "      <td>1611.906769</td>\n",
       "      <td>447.225453</td>\n",
       "    </tr>\n",
       "    <tr>\n",
       "      <th>9</th>\n",
       "      <td>1614.297878</td>\n",
       "      <td>445.764013</td>\n",
       "    </tr>\n",
       "    <tr>\n",
       "      <th>10</th>\n",
       "      <td>1616.695334</td>\n",
       "      <td>444.297760</td>\n",
       "    </tr>\n",
       "    <tr>\n",
       "      <th>11</th>\n",
       "      <td>1619.099161</td>\n",
       "      <td>442.826675</td>\n",
       "    </tr>\n",
       "    <tr>\n",
       "      <th>12</th>\n",
       "      <td>1621.509382</td>\n",
       "      <td>441.350737</td>\n",
       "    </tr>\n",
       "    <tr>\n",
       "      <th>13</th>\n",
       "      <td>1623.926020</td>\n",
       "      <td>439.869923</td>\n",
       "    </tr>\n",
       "    <tr>\n",
       "      <th>14</th>\n",
       "      <td>1626.349100</td>\n",
       "      <td>438.384215</td>\n",
       "    </tr>\n",
       "    <tr>\n",
       "      <th>15</th>\n",
       "      <td>1628.778645</td>\n",
       "      <td>436.893589</td>\n",
       "    </tr>\n",
       "    <tr>\n",
       "      <th>16</th>\n",
       "      <td>1631.214678</td>\n",
       "      <td>435.398025</td>\n",
       "    </tr>\n",
       "    <tr>\n",
       "      <th>17</th>\n",
       "      <td>1633.657225</td>\n",
       "      <td>433.897501</td>\n",
       "    </tr>\n",
       "    <tr>\n",
       "      <th>18</th>\n",
       "      <td>1636.106309</td>\n",
       "      <td>432.391997</td>\n",
       "    </tr>\n",
       "    <tr>\n",
       "      <th>19</th>\n",
       "      <td>1638.561953</td>\n",
       "      <td>430.881489</td>\n",
       "    </tr>\n",
       "    <tr>\n",
       "      <th>20</th>\n",
       "      <td>1641.024183</td>\n",
       "      <td>429.365958</td>\n",
       "    </tr>\n",
       "    <tr>\n",
       "      <th>21</th>\n",
       "      <td>1643.493023</td>\n",
       "      <td>427.845380</td>\n",
       "    </tr>\n",
       "    <tr>\n",
       "      <th>22</th>\n",
       "      <td>1645.968496</td>\n",
       "      <td>426.319734</td>\n",
       "    </tr>\n",
       "    <tr>\n",
       "      <th>23</th>\n",
       "      <td>1648.450629</td>\n",
       "      <td>424.788998</td>\n",
       "    </tr>\n",
       "    <tr>\n",
       "      <th>24</th>\n",
       "      <td>1650.939444</td>\n",
       "      <td>423.253151</td>\n",
       "    </tr>\n",
       "    <tr>\n",
       "      <th>25</th>\n",
       "      <td>1653.434968</td>\n",
       "      <td>421.712169</td>\n",
       "    </tr>\n",
       "    <tr>\n",
       "      <th>26</th>\n",
       "      <td>1655.937225</td>\n",
       "      <td>420.166030</td>\n",
       "    </tr>\n",
       "    <tr>\n",
       "      <th>27</th>\n",
       "      <td>1658.446240</td>\n",
       "      <td>418.614713</td>\n",
       "    </tr>\n",
       "    <tr>\n",
       "      <th>28</th>\n",
       "      <td>1660.962037</td>\n",
       "      <td>417.058195</td>\n",
       "    </tr>\n",
       "    <tr>\n",
       "      <th>29</th>\n",
       "      <td>1663.484643</td>\n",
       "      <td>415.496453</td>\n",
       "    </tr>\n",
       "    <tr>\n",
       "      <th>...</th>\n",
       "      <td>...</td>\n",
       "      <td>...</td>\n",
       "    </tr>\n",
       "    <tr>\n",
       "      <th>210</th>\n",
       "      <td>728.897117</td>\n",
       "      <td>56.696003</td>\n",
       "    </tr>\n",
       "    <tr>\n",
       "      <th>211</th>\n",
       "      <td>731.926202</td>\n",
       "      <td>54.964388</td>\n",
       "    </tr>\n",
       "    <tr>\n",
       "      <th>212</th>\n",
       "      <td>734.967875</td>\n",
       "      <td>53.222329</td>\n",
       "    </tr>\n",
       "    <tr>\n",
       "      <th>213</th>\n",
       "      <td>738.022189</td>\n",
       "      <td>51.469776</td>\n",
       "    </tr>\n",
       "    <tr>\n",
       "      <th>214</th>\n",
       "      <td>741.089195</td>\n",
       "      <td>49.706679</td>\n",
       "    </tr>\n",
       "    <tr>\n",
       "      <th>215</th>\n",
       "      <td>744.168947</td>\n",
       "      <td>47.932991</td>\n",
       "    </tr>\n",
       "    <tr>\n",
       "      <th>216</th>\n",
       "      <td>747.261497</td>\n",
       "      <td>46.148661</td>\n",
       "    </tr>\n",
       "    <tr>\n",
       "      <th>217</th>\n",
       "      <td>750.366900</td>\n",
       "      <td>44.353640</td>\n",
       "    </tr>\n",
       "    <tr>\n",
       "      <th>218</th>\n",
       "      <td>753.485207</td>\n",
       "      <td>42.547879</td>\n",
       "    </tr>\n",
       "    <tr>\n",
       "      <th>219</th>\n",
       "      <td>756.616473</td>\n",
       "      <td>40.731326</td>\n",
       "    </tr>\n",
       "    <tr>\n",
       "      <th>220</th>\n",
       "      <td>759.760752</td>\n",
       "      <td>38.903932</td>\n",
       "    </tr>\n",
       "    <tr>\n",
       "      <th>221</th>\n",
       "      <td>762.918098</td>\n",
       "      <td>37.065646</td>\n",
       "    </tr>\n",
       "    <tr>\n",
       "      <th>222</th>\n",
       "      <td>766.088564</td>\n",
       "      <td>35.216417</td>\n",
       "    </tr>\n",
       "    <tr>\n",
       "      <th>223</th>\n",
       "      <td>769.272206</td>\n",
       "      <td>33.356196</td>\n",
       "    </tr>\n",
       "    <tr>\n",
       "      <th>224</th>\n",
       "      <td>772.469079</td>\n",
       "      <td>31.484929</td>\n",
       "    </tr>\n",
       "    <tr>\n",
       "      <th>225</th>\n",
       "      <td>775.679236</td>\n",
       "      <td>29.602567</td>\n",
       "    </tr>\n",
       "    <tr>\n",
       "      <th>226</th>\n",
       "      <td>778.902735</td>\n",
       "      <td>27.709057</td>\n",
       "    </tr>\n",
       "    <tr>\n",
       "      <th>227</th>\n",
       "      <td>782.139629</td>\n",
       "      <td>25.804348</td>\n",
       "    </tr>\n",
       "    <tr>\n",
       "      <th>228</th>\n",
       "      <td>785.389974</td>\n",
       "      <td>23.888388</td>\n",
       "    </tr>\n",
       "    <tr>\n",
       "      <th>229</th>\n",
       "      <td>788.653828</td>\n",
       "      <td>21.961123</td>\n",
       "    </tr>\n",
       "    <tr>\n",
       "      <th>230</th>\n",
       "      <td>791.931244</td>\n",
       "      <td>20.022503</td>\n",
       "    </tr>\n",
       "    <tr>\n",
       "      <th>231</th>\n",
       "      <td>795.222281</td>\n",
       "      <td>18.072474</td>\n",
       "    </tr>\n",
       "    <tr>\n",
       "      <th>232</th>\n",
       "      <td>798.526995</td>\n",
       "      <td>16.110983</td>\n",
       "    </tr>\n",
       "    <tr>\n",
       "      <th>233</th>\n",
       "      <td>801.845441</td>\n",
       "      <td>14.137977</td>\n",
       "    </tr>\n",
       "    <tr>\n",
       "      <th>234</th>\n",
       "      <td>805.177679</td>\n",
       "      <td>12.153403</td>\n",
       "    </tr>\n",
       "    <tr>\n",
       "      <th>235</th>\n",
       "      <td>808.523764</td>\n",
       "      <td>10.157206</td>\n",
       "    </tr>\n",
       "    <tr>\n",
       "      <th>236</th>\n",
       "      <td>811.883754</td>\n",
       "      <td>8.149334</td>\n",
       "    </tr>\n",
       "    <tr>\n",
       "      <th>237</th>\n",
       "      <td>815.257708</td>\n",
       "      <td>6.129732</td>\n",
       "    </tr>\n",
       "    <tr>\n",
       "      <th>238</th>\n",
       "      <td>818.645683</td>\n",
       "      <td>4.098345</td>\n",
       "    </tr>\n",
       "    <tr>\n",
       "      <th>239</th>\n",
       "      <td>822.047737</td>\n",
       "      <td>2.055119</td>\n",
       "    </tr>\n",
       "  </tbody>\n",
       "</table>\n",
       "<p>240 rows × 2 columns</p>\n",
       "</div>"
      ],
      "text/plain": [
       "            fund    interest\n",
       "0    1593.003619  458.746229\n",
       "1    1595.344781  457.322542\n",
       "2    1597.692107  455.894207\n",
       "3    1600.045619  454.461204\n",
       "4    1602.405340  453.023513\n",
       "5    1604.771292  451.581112\n",
       "6    1607.143499  450.133982\n",
       "7    1609.521983  448.682103\n",
       "8    1611.906769  447.225453\n",
       "9    1614.297878  445.764013\n",
       "10   1616.695334  444.297760\n",
       "11   1619.099161  442.826675\n",
       "12   1621.509382  441.350737\n",
       "13   1623.926020  439.869923\n",
       "14   1626.349100  438.384215\n",
       "15   1628.778645  436.893589\n",
       "16   1631.214678  435.398025\n",
       "17   1633.657225  433.897501\n",
       "18   1636.106309  432.391997\n",
       "19   1638.561953  430.881489\n",
       "20   1641.024183  429.365958\n",
       "21   1643.493023  427.845380\n",
       "22   1645.968496  426.319734\n",
       "23   1648.450629  424.788998\n",
       "24   1650.939444  423.253151\n",
       "25   1653.434968  421.712169\n",
       "26   1655.937225  420.166030\n",
       "27   1658.446240  418.614713\n",
       "28   1660.962037  417.058195\n",
       "29   1663.484643  415.496453\n",
       "..           ...         ...\n",
       "210   728.897117   56.696003\n",
       "211   731.926202   54.964388\n",
       "212   734.967875   53.222329\n",
       "213   738.022189   51.469776\n",
       "214   741.089195   49.706679\n",
       "215   744.168947   47.932991\n",
       "216   747.261497   46.148661\n",
       "217   750.366900   44.353640\n",
       "218   753.485207   42.547879\n",
       "219   756.616473   40.731326\n",
       "220   759.760752   38.903932\n",
       "221   762.918098   37.065646\n",
       "222   766.088564   35.216417\n",
       "223   769.272206   33.356196\n",
       "224   772.469079   31.484929\n",
       "225   775.679236   29.602567\n",
       "226   778.902735   27.709057\n",
       "227   782.139629   25.804348\n",
       "228   785.389974   23.888388\n",
       "229   788.653828   21.961123\n",
       "230   791.931244   20.022503\n",
       "231   795.222281   18.072474\n",
       "232   798.526995   16.110983\n",
       "233   801.845441   14.137977\n",
       "234   805.177679   12.153403\n",
       "235   808.523764   10.157206\n",
       "236   811.883754    8.149334\n",
       "237   815.257708    6.129732\n",
       "238   818.645683    4.098345\n",
       "239   822.047737    2.055119\n",
       "\n",
       "[240 rows x 2 columns]"
      ]
     },
     "execution_count": 5,
     "metadata": {},
     "output_type": "execute_result"
    }
   ],
   "source": [
    "payments = mort.simulate(inflation=2.0)\n",
    "payments"
   ]
  },
  {
   "cell_type": "markdown",
   "metadata": {},
   "source": [
    "## multiple mortgage simulation\n",
    "\n",
    "[top](#contents), [next](#optimizing-your-mortgage-offers), [previous](#single-mortgage-simulation)\n",
    "\n",
    "Given a number of offers (for example, from different banks, or for different periods of loan), we can compare them using the `MultiSim` class.\n",
    "\n",
    "This class accepts common-separated-values files with the parameters of multiple-plan mortgages, such as the one provided in 'mortgage_table.csv'."
   ]
  },
  {
   "cell_type": "code",
   "execution_count": 6,
   "metadata": {},
   "outputs": [
    {
     "data": {
      "text/html": [
       "<div>\n",
       "<style scoped>\n",
       "    .dataframe tbody tr th:only-of-type {\n",
       "        vertical-align: middle;\n",
       "    }\n",
       "\n",
       "    .dataframe tbody tr th {\n",
       "        vertical-align: top;\n",
       "    }\n",
       "\n",
       "    .dataframe thead th {\n",
       "        text-align: right;\n",
       "    }\n",
       "</style>\n",
       "<table border=\"1\" class=\"dataframe\">\n",
       "  <thead>\n",
       "    <tr style=\"text-align: right;\">\n",
       "      <th></th>\n",
       "      <th>mortgage_id</th>\n",
       "      <th>plan_principal</th>\n",
       "      <th>plan_years</th>\n",
       "      <th>plan_interest</th>\n",
       "      <th>plan_tracks_inflation</th>\n",
       "      <th>description</th>\n",
       "    </tr>\n",
       "  </thead>\n",
       "  <tbody>\n",
       "    <tr>\n",
       "      <th>0</th>\n",
       "      <td>1</td>\n",
       "      <td>100000</td>\n",
       "      <td>10</td>\n",
       "      <td>2.0</td>\n",
       "      <td>True</td>\n",
       "      <td>fixed rate inflating</td>\n",
       "    </tr>\n",
       "    <tr>\n",
       "      <th>1</th>\n",
       "      <td>1</td>\n",
       "      <td>100000</td>\n",
       "      <td>10</td>\n",
       "      <td>1.0</td>\n",
       "      <td>False</td>\n",
       "      <td>prime rate</td>\n",
       "    </tr>\n",
       "    <tr>\n",
       "      <th>2</th>\n",
       "      <td>1</td>\n",
       "      <td>100000</td>\n",
       "      <td>10</td>\n",
       "      <td>2.8</td>\n",
       "      <td>True</td>\n",
       "      <td>adjustable rate inflating</td>\n",
       "    </tr>\n",
       "    <tr>\n",
       "      <th>3</th>\n",
       "      <td>2</td>\n",
       "      <td>100000</td>\n",
       "      <td>20</td>\n",
       "      <td>2.5</td>\n",
       "      <td>True</td>\n",
       "      <td>fixed rate inflating</td>\n",
       "    </tr>\n",
       "    <tr>\n",
       "      <th>4</th>\n",
       "      <td>2</td>\n",
       "      <td>100000</td>\n",
       "      <td>20</td>\n",
       "      <td>1.0</td>\n",
       "      <td>False</td>\n",
       "      <td>prime rate</td>\n",
       "    </tr>\n",
       "    <tr>\n",
       "      <th>5</th>\n",
       "      <td>2</td>\n",
       "      <td>100000</td>\n",
       "      <td>20</td>\n",
       "      <td>2.9</td>\n",
       "      <td>True</td>\n",
       "      <td>adjustable rate inflating</td>\n",
       "    </tr>\n",
       "  </tbody>\n",
       "</table>\n",
       "</div>"
      ],
      "text/plain": [
       "   mortgage_id  plan_principal  plan_years  plan_interest  \\\n",
       "0            1          100000          10            2.0   \n",
       "1            1          100000          10            1.0   \n",
       "2            1          100000          10            2.8   \n",
       "3            2          100000          20            2.5   \n",
       "4            2          100000          20            1.0   \n",
       "5            2          100000          20            2.9   \n",
       "\n",
       "   plan_tracks_inflation                description  \n",
       "0                   True       fixed rate inflating  \n",
       "1                  False                 prime rate  \n",
       "2                   True  adjustable rate inflating  \n",
       "3                   True       fixed rate inflating  \n",
       "4                  False                 prime rate  \n",
       "5                   True  adjustable rate inflating  "
      ]
     },
     "execution_count": 6,
     "metadata": {},
     "output_type": "execute_result"
    }
   ],
   "source": [
    "pd.read_csv('bank_offers.csv').head(6)"
   ]
  },
  {
   "cell_type": "markdown",
   "metadata": {},
   "source": [
    "Each mortgage offer here (with a designated mortgage_id) contains 3 plans."
   ]
  },
  {
   "cell_type": "code",
   "execution_count": 7,
   "metadata": {},
   "outputs": [
    {
     "name": "stdout",
     "output_type": "stream",
     "text": [
      "3 offers added to simulator\n",
      "total offers: 3\n"
     ]
    },
    {
     "data": {
      "text/plain": [
       "\n",
       "Mortgage{'inflation': 0.0, 'monthly_inflation': 0.0, 'plans': [\n",
       "Plan{'principal': '100000.0000', 'years': '10.0000', 'interest': '2.0000', 'monthly_interest': '0.0017', 'monthly_pay': '920.1345', 'track_inflation': '1.0000', 'description': 'fixed rate inflating', 'current_balance': '100000.0000'}, \n",
       "Plan{'principal': '100000.0000', 'years': '10.0000', 'interest': '1.0000', 'monthly_interest': '0.0008', 'monthly_pay': '876.0412', 'track_inflation': '0.0000', 'description': 'prime rate', 'current_balance': '100000.0000'}, \n",
       "Plan{'principal': '100000.0000', 'years': '10.0000', 'interest': '2.8000', 'monthly_interest': '0.0023', 'monthly_pay': '956.4029', 'track_inflation': '1.0000', 'description': 'adjustable rate inflating', 'current_balance': '100000.0000'}]}"
      ]
     },
     "execution_count": 7,
     "metadata": {},
     "output_type": "execute_result"
    }
   ],
   "source": [
    "msim = pymort.MultiSim()\n",
    "msim.add_mortgage_from_file('bank_offers.csv')\n",
    "msim.morts[0]"
   ]
  },
  {
   "cell_type": "markdown",
   "metadata": {},
   "source": [
    "Using `MultiSim` we can simulatneously simulate all the plans for a range of inflation scenarios and compare the cost of the different offers based on the return ratio (that is, the number of dollars we pay for each dollar borrowed), and the maximal monthly payment that we will have to deal with somewhere down the road.\n",
    "\n",
    "In addition, we may ask `MultiSim` to constrain to some maximal payment, and/or to some maximal first monthly payment. These arguments are optional."
   ]
  },
  {
   "cell_type": "code",
   "execution_count": 8,
   "metadata": {},
   "outputs": [
    {
     "data": {
      "text/html": [
       "<div>\n",
       "<style scoped>\n",
       "    .dataframe tbody tr th:only-of-type {\n",
       "        vertical-align: middle;\n",
       "    }\n",
       "\n",
       "    .dataframe tbody tr th {\n",
       "        vertical-align: top;\n",
       "    }\n",
       "\n",
       "    .dataframe thead th {\n",
       "        text-align: right;\n",
       "    }\n",
       "</style>\n",
       "<table border=\"1\" class=\"dataframe\">\n",
       "  <thead>\n",
       "    <tr style=\"text-align: right;\">\n",
       "      <th></th>\n",
       "      <th>inflat_0_00</th>\n",
       "      <th>inflat_0_50</th>\n",
       "      <th>inflat_1_00</th>\n",
       "      <th>inflat_1_50</th>\n",
       "      <th>inflat_2_00</th>\n",
       "    </tr>\n",
       "    <tr>\n",
       "      <th>mortgage</th>\n",
       "      <th></th>\n",
       "      <th></th>\n",
       "      <th></th>\n",
       "      <th></th>\n",
       "      <th></th>\n",
       "    </tr>\n",
       "  </thead>\n",
       "  <tbody>\n",
       "    <tr>\n",
       "      <th>0</th>\n",
       "      <td>NaN</td>\n",
       "      <td>NaN</td>\n",
       "      <td>NaN</td>\n",
       "      <td>NaN</td>\n",
       "      <td>NaN</td>\n",
       "    </tr>\n",
       "    <tr>\n",
       "      <th>1</th>\n",
       "      <td>1.231522</td>\n",
       "      <td>1.276252</td>\n",
       "      <td>1.323845</td>\n",
       "      <td>NaN</td>\n",
       "      <td>NaN</td>\n",
       "    </tr>\n",
       "    <tr>\n",
       "      <th>2</th>\n",
       "      <td>1.397817</td>\n",
       "      <td>1.477665</td>\n",
       "      <td>1.565549</td>\n",
       "      <td>1.662348</td>\n",
       "      <td>1.769039</td>\n",
       "    </tr>\n",
       "  </tbody>\n",
       "</table>\n",
       "</div>"
      ],
      "text/plain": [
       "          inflat_0_00  inflat_0_50  inflat_1_00  inflat_1_50  inflat_2_00\n",
       "mortgage                                                                 \n",
       "0                 NaN          NaN          NaN          NaN          NaN\n",
       "1            1.231522     1.276252     1.323845          NaN          NaN\n",
       "2            1.397817     1.477665     1.565549     1.662348     1.769039"
      ]
     },
     "execution_count": 8,
     "metadata": {},
     "output_type": "execute_result"
    }
   ],
   "source": [
    "return_ratio, max_pay = msim.simulate(inflation=[0, 0.5, 1, 1.5, 2], max_pay=1900, max_first_pay=1600)\n",
    "return_ratio"
   ]
  },
  {
   "cell_type": "markdown",
   "metadata": {},
   "source": [
    "The return ratio is given for each mortgage offer and for each inflation scenario.\n",
    "\n",
    "Mortgage offers that excceed the the allowed maximal payment, or the desired first monthly payment are masked from the table.\n",
    "\n",
    "We can utilize the table to select the best offer for each scenario."
   ]
  },
  {
   "cell_type": "code",
   "execution_count": 9,
   "metadata": {},
   "outputs": [
    {
     "data": {
      "text/plain": [
       "inflat_0_00    1\n",
       "inflat_0_50    1\n",
       "inflat_1_00    1\n",
       "inflat_1_50    2\n",
       "inflat_2_00    2\n",
       "dtype: int64"
      ]
     },
     "execution_count": 9,
     "metadata": {},
     "output_type": "execute_result"
    }
   ],
   "source": [
    "return_ratio.idxmin()"
   ]
  },
  {
   "cell_type": "markdown",
   "metadata": {},
   "source": [
    "Finally, we can simulate any of these offers, as we did for the single. Let's see the most favorable one for <1% inflation."
   ]
  },
  {
   "cell_type": "code",
   "execution_count": 10,
   "metadata": {
    "scrolled": true
   },
   "outputs": [
    {
     "data": {
      "image/png": "[encoded data removed]",
      "text/plain": [
       "<Figure size 432x288 with 1 Axes>"
      ]
     },
     "metadata": {},
     "output_type": "display_data"
    }
   ],
   "source": [
    "msim.morts[1].plot(2)"
   ]
  },
  {
   "cell_type": "markdown",
   "metadata": {},
   "source": [
    "## optimizing your mortgage offers\n",
    "\n",
    "[top](#contents), [previous](#multiple-mortgage-simulation)\n",
    "\n",
    "We may try to use the simulation to optimize the period of years for each plan in a multi-plan mortgage. However, this can be tricky as the terms of the loan tend to change depending on its duration.\n",
    "\n",
    "One possible solution could be the following one. Given a few offers from the bank for different periods of years - e.g., for 10, 15 and 20-year plans - we can attempt to predict what will be the interest rate of the next offer, e.g. for 17 years, or 12.\n",
    "\n",
    "`LinearSim` builds a simple model for such predictions, and can simulate multiple combination of plans for different time periods, inflation scenarios, and under different constraints on the size of payments.\n",
    "\n",
    "To this end, we will load only mortgage offers that were received _from the same bank_ (and hopefully follow a consistent trend that can be learned and predicted using simple linear interpolation).\n",
    "\n",
    "After receiving the results, one may ask the bank for a new offer for any of the desired plans. **Note, that the model that underlies this simulation may generate predictions that will prove to be different from the actual final offers received from the bank.**\n",
    "\n",
    "This simulation (as any of the others in pymort) also does not take into account the dynamics in the set annual interest, that will affect the cost of the loan. Such predictions are well beyond the scope of this package.\n",
    "\n",
    "Let's see an example."
   ]
  },
  {
   "cell_type": "code",
   "execution_count": 11,
   "metadata": {},
   "outputs": [
    {
     "name": "stdout",
     "output_type": "stream",
     "text": [
      "3 offers added to simulator\n",
      "total offers: 3\n"
     ]
    }
   ],
   "source": [
    "lsim = pymort.LinearSim()\n",
    "lsim.add_mortgage_from_file('bank_offers.csv')"
   ]
  },
  {
   "cell_type": "markdown",
   "metadata": {},
   "source": [
    "This simulator works similarly to the previous ones, but accepts also a range of years as arguments."
   ]
  },
  {
   "cell_type": "code",
   "execution_count": 12,
   "metadata": {},
   "outputs": [
    {
     "name": "stdout",
     "output_type": "stream",
     "text": [
      "102.5sec\n"
     ]
    }
   ],
   "source": [
    "return_ratio, max_pay = lsim.simulate(years=np.arange(15, 31),\n",
    "                                      inflation=[0, 0.5, 1, 1.5, 2], max_pay=1900, max_first_pay=1600)"
   ]
  },
  {
   "cell_type": "markdown",
   "metadata": {},
   "source": [
    "The cheapest predicted offers that meet the payment constraints for each inflation scenario are kept in the returned table. It can be seen that the year spans in the first row are expected to lead to the best return ratio. However, for an iflation rate of 1.5%, spreading part of the loan (plan_1) over a longer period while shortening the terms of the other plans results in the best predicted return ratio that does not exceed the payment limits we previously set. For an inflation rate of 2% additional adjustments must be made."
   ]
  },
  {
   "cell_type": "code",
   "execution_count": 13,
   "metadata": {},
   "outputs": [
    {
     "data": {
      "text/html": [
       "<div>\n",
       "<style scoped>\n",
       "    .dataframe tbody tr th:only-of-type {\n",
       "        vertical-align: middle;\n",
       "    }\n",
       "\n",
       "    .dataframe tbody tr th {\n",
       "        vertical-align: top;\n",
       "    }\n",
       "\n",
       "    .dataframe thead th {\n",
       "        text-align: right;\n",
       "    }\n",
       "</style>\n",
       "<table border=\"1\" class=\"dataframe\">\n",
       "  <thead>\n",
       "    <tr style=\"text-align: right;\">\n",
       "      <th></th>\n",
       "      <th></th>\n",
       "      <th></th>\n",
       "      <th>inflat_0_00</th>\n",
       "      <th>inflat_0_50</th>\n",
       "      <th>inflat_1_00</th>\n",
       "      <th>inflat_1_50</th>\n",
       "      <th>inflat_2_00</th>\n",
       "    </tr>\n",
       "    <tr>\n",
       "      <th>plan_1</th>\n",
       "      <th>plan_2</th>\n",
       "      <th>plan_3</th>\n",
       "      <th></th>\n",
       "      <th></th>\n",
       "      <th></th>\n",
       "      <th></th>\n",
       "      <th></th>\n",
       "    </tr>\n",
       "  </thead>\n",
       "  <tbody>\n",
       "    <tr>\n",
       "      <th>16</th>\n",
       "      <th>30</th>\n",
       "      <th>16</th>\n",
       "      <td>1.200490</td>\n",
       "      <td>1.234048</td>\n",
       "      <td>1.269276</td>\n",
       "      <td>NaN</td>\n",
       "      <td>NaN</td>\n",
       "    </tr>\n",
       "    <tr>\n",
       "      <th>18</th>\n",
       "      <th>29</th>\n",
       "      <th>15</th>\n",
       "      <td>1.205001</td>\n",
       "      <td>1.239912</td>\n",
       "      <td>1.276641</td>\n",
       "      <td>1.315288</td>\n",
       "      <td>NaN</td>\n",
       "    </tr>\n",
       "    <tr>\n",
       "      <th>15</th>\n",
       "      <th>30</th>\n",
       "      <th>22</th>\n",
       "      <td>1.231195</td>\n",
       "      <td>1.272196</td>\n",
       "      <td>1.315739</td>\n",
       "      <td>1.361997</td>\n",
       "      <td>1.411157</td>\n",
       "    </tr>\n",
       "  </tbody>\n",
       "</table>\n",
       "</div>"
      ],
      "text/plain": [
       "                      inflat_0_00  inflat_0_50  inflat_1_00  inflat_1_50  \\\n",
       "plan_1 plan_2 plan_3                                                       \n",
       "16     30     16         1.200490     1.234048     1.269276          NaN   \n",
       "18     29     15         1.205001     1.239912     1.276641     1.315288   \n",
       "15     30     22         1.231195     1.272196     1.315739     1.361997   \n",
       "\n",
       "                      inflat_2_00  \n",
       "plan_1 plan_2 plan_3               \n",
       "16     30     16              NaN  \n",
       "18     29     15              NaN  \n",
       "15     30     22         1.411157  "
      ]
     },
     "execution_count": 13,
     "metadata": {},
     "output_type": "execute_result"
    }
   ],
   "source": [
    "return_ratio"
   ]
  },
  {
   "cell_type": "code",
   "execution_count": 14,
   "metadata": {},
   "outputs": [
    {
     "data": {
      "text/html": [
       "<div>\n",
       "<style scoped>\n",
       "    .dataframe tbody tr th:only-of-type {\n",
       "        vertical-align: middle;\n",
       "    }\n",
       "\n",
       "    .dataframe tbody tr th {\n",
       "        vertical-align: top;\n",
       "    }\n",
       "\n",
       "    .dataframe thead th {\n",
       "        text-align: right;\n",
       "    }\n",
       "</style>\n",
       "<table border=\"1\" class=\"dataframe\">\n",
       "  <thead>\n",
       "    <tr style=\"text-align: right;\">\n",
       "      <th></th>\n",
       "      <th></th>\n",
       "      <th></th>\n",
       "      <th>inflat_0_00</th>\n",
       "      <th>inflat_0_50</th>\n",
       "      <th>inflat_1_00</th>\n",
       "      <th>inflat_1_50</th>\n",
       "      <th>inflat_2_00</th>\n",
       "    </tr>\n",
       "    <tr>\n",
       "      <th>plan_1</th>\n",
       "      <th>plan_2</th>\n",
       "      <th>plan_3</th>\n",
       "      <th></th>\n",
       "      <th></th>\n",
       "      <th></th>\n",
       "      <th></th>\n",
       "      <th></th>\n",
       "    </tr>\n",
       "  </thead>\n",
       "  <tbody>\n",
       "    <tr>\n",
       "      <th>16</th>\n",
       "      <th>30</th>\n",
       "      <th>16</th>\n",
       "      <td>1594.330722</td>\n",
       "      <td>1700.054645</td>\n",
       "      <td>1813.970045</td>\n",
       "      <td>1936.666261</td>\n",
       "      <td>2068.771808</td>\n",
       "    </tr>\n",
       "    <tr>\n",
       "      <th>18</th>\n",
       "      <th>29</th>\n",
       "      <th>15</th>\n",
       "      <td>1585.139646</td>\n",
       "      <td>1682.552767</td>\n",
       "      <td>1786.992576</td>\n",
       "      <td>1898.927331</td>\n",
       "      <td>2018.853945</td>\n",
       "    </tr>\n",
       "    <tr>\n",
       "      <th>15</th>\n",
       "      <th>30</th>\n",
       "      <th>22</th>\n",
       "      <td>1490.561726</td>\n",
       "      <td>1581.366803</td>\n",
       "      <td>1678.721912</td>\n",
       "      <td>1783.063545</td>\n",
       "      <td>1894.854906</td>\n",
       "    </tr>\n",
       "  </tbody>\n",
       "</table>\n",
       "</div>"
      ],
      "text/plain": [
       "                      inflat_0_00  inflat_0_50  inflat_1_00  inflat_1_50  \\\n",
       "plan_1 plan_2 plan_3                                                       \n",
       "16     30     16      1594.330722  1700.054645  1813.970045  1936.666261   \n",
       "18     29     15      1585.139646  1682.552767  1786.992576  1898.927331   \n",
       "15     30     22      1490.561726  1581.366803  1678.721912  1783.063545   \n",
       "\n",
       "                      inflat_2_00  \n",
       "plan_1 plan_2 plan_3               \n",
       "16     30     16      2068.771808  \n",
       "18     29     15      2018.853945  \n",
       "15     30     22      1894.854906  "
      ]
     },
     "execution_count": 14,
     "metadata": {},
     "output_type": "execute_result"
    }
   ],
   "source": [
    "max_pay"
   ]
  },
  {
   "cell_type": "code",
   "execution_count": 15,
   "metadata": {},
   "outputs": [
    {
     "data": {
      "text/plain": [
       "inflat_0_00    (16, 30, 16)\n",
       "inflat_0_50    (16, 30, 16)\n",
       "inflat_1_00    (16, 30, 16)\n",
       "inflat_1_50    (18, 29, 15)\n",
       "inflat_2_00    (15, 30, 22)\n",
       "dtype: object"
      ]
     },
     "execution_count": 15,
     "metadata": {},
     "output_type": "execute_result"
    }
   ],
   "source": [
    "return_ratio.idxmin()"
   ]
  },
  {
   "cell_type": "markdown",
   "metadata": {},
   "source": [
    "Finally, let's compare the 20-year plan with the one proposed by the analysis using `LinearSim`."
   ]
  },
  {
   "cell_type": "code",
   "execution_count": 16,
   "metadata": {},
   "outputs": [
    {
     "data": {
      "image/png": "[encoded data removed]",
      "text/plain": [
       "<Figure size 432x288 with 1 Axes>"
      ]
     },
     "metadata": {},
     "output_type": "display_data"
    }
   ],
   "source": [
    "lsim.get_plan(18, 29, 15).plot(inflation=1.5)"
   ]
  },
  {
   "cell_type": "code",
   "execution_count": 17,
   "metadata": {},
   "outputs": [
    {
     "data": {
      "image/png": "[encoded data removed]",
      "text/plain": [
       "<Figure size 432x288 with 1 Axes>"
      ]
     },
     "metadata": {},
     "output_type": "display_data"
    }
   ],
   "source": [
    "lsim.get_plan(20, 20, 20).plot(inflation=1.5)"
   ]
  },
  {
   "cell_type": "code",
   "execution_count": null,
   "metadata": {},
   "outputs": [],
   "source": []
  }
 ],
 "metadata": {
  "kernelspec": {
   "display_name": "Python 3",
   "language": "python",
   "name": "python3"
  },
  "language_info": {
   "codemirror_mode": {
    "name": "ipython",
    "version": 3
   },
   "file_extension": ".py",
   "mimetype": "text/x-python",
   "name": "python",
   "nbconvert_exporter": "python",
   "pygments_lexer": "ipython3",
   "version": "3.6.5"
  }
 },
 "nbformat": 4,
 "nbformat_minor": 2
}
